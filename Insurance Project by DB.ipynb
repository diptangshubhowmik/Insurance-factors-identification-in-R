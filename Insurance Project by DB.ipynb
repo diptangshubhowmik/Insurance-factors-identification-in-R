{
 "cells": [
  {
   "cell_type": "markdown",
   "id": "58331e17",
   "metadata": {},
   "source": [
    "# Insurance Factors Identification Project by Diptangshu Bhowmik\n"
   ]
  },
  {
   "cell_type": "markdown",
   "id": "b6891b4c",
   "metadata": {},
   "source": [
    "First we load the required data set and name it ins"
   ]
  },
  {
   "cell_type": "code",
   "execution_count": 1,
   "id": "ea1be410",
   "metadata": {},
   "outputs": [],
   "source": [
    "ins<-read.csv(\"C:\\\\Users\\\\hp\\\\Downloads\\\\Insurance_factor_identification.csv\",\n",
    "              header = T)"
   ]
  },
  {
   "cell_type": "markdown",
   "id": "9a974792",
   "metadata": {},
   "source": [
    "# Question 1:"
   ]
  },
  {
   "cell_type": "markdown",
   "id": "1cb7f83a",
   "metadata": {},
   "source": [
    "The committee is interested to know each field of the data collected through descriptive analysis.To gain basic insights into the data set and to prepare for further analysis."
   ]
  },
  {
   "cell_type": "code",
   "execution_count": 2,
   "id": "4fc5fa82",
   "metadata": {},
   "outputs": [
    {
     "data": {
      "text/plain": [
       "   Kilometres         Zone          Bonus            Make      \n",
       " Min.   :1.000   Min.   :1.00   Min.   :1.000   Min.   :1.000  \n",
       " 1st Qu.:2.000   1st Qu.:2.00   1st Qu.:2.000   1st Qu.:3.000  \n",
       " Median :3.000   Median :4.00   Median :4.000   Median :5.000  \n",
       " Mean   :2.986   Mean   :3.97   Mean   :4.015   Mean   :4.992  \n",
       " 3rd Qu.:4.000   3rd Qu.:6.00   3rd Qu.:6.000   3rd Qu.:7.000  \n",
       " Max.   :5.000   Max.   :7.00   Max.   :7.000   Max.   :9.000  \n",
       "    Insured              Claims           Payment        \n",
       " Min.   :     0.01   Min.   :   0.00   Min.   :       0  \n",
       " 1st Qu.:    21.61   1st Qu.:   1.00   1st Qu.:    2989  \n",
       " Median :    81.53   Median :   5.00   Median :   27404  \n",
       " Mean   :  1092.20   Mean   :  51.87   Mean   :  257008  \n",
       " 3rd Qu.:   389.78   3rd Qu.:  21.00   3rd Qu.:  111954  \n",
       " Max.   :127687.27   Max.   :3338.00   Max.   :18245026  "
      ]
     },
     "metadata": {},
     "output_type": "display_data"
    }
   ],
   "source": [
    "summary(ins)"
   ]
  },
  {
   "cell_type": "markdown",
   "id": "5831380a",
   "metadata": {},
   "source": [
    "# Question 2:"
   ]
  },
  {
   "cell_type": "markdown",
   "id": "29803950",
   "metadata": {},
   "source": [
    "The total value of payment by an insurance company is an important factor to be monitored. So the committee has decided to find whether this payment is related to the number of claims and the number of insured policy years. They also want to visualize the results for better understanding. "
   ]
  },
  {
   "cell_type": "code",
   "execution_count": 3,
   "id": "79611ee2",
   "metadata": {},
   "outputs": [
    {
     "data": {
      "text/plain": [
       "\n",
       "Call:\n",
       "lm(formula = ins$Payment ~ ins$Claims + ins$Insured)\n",
       "\n",
       "Coefficients:\n",
       "(Intercept)   ins$Claims  ins$Insured  \n",
       "    3250.74      4294.77        28.39  \n"
      ]
     },
     "metadata": {},
     "output_type": "display_data"
    }
   ],
   "source": [
    "lm1<-lm(ins$Payment~ins$Claims+ins$Insured)\n",
    "lm1"
   ]
  },
  {
   "cell_type": "code",
   "execution_count": 4,
   "id": "362223e6",
   "metadata": {},
   "outputs": [
    {
     "data": {
      "text/plain": [
       "\n",
       "Call:\n",
       "lm(formula = ins$Payment ~ ins$Claims + ins$Insured)\n",
       "\n",
       "Residuals:\n",
       "    Min      1Q  Median      3Q     Max \n",
       "-799392  -12743   -3733   10591  861235 \n",
       "\n",
       "Coefficients:\n",
       "             Estimate Std. Error t value Pr(>|t|)    \n",
       "(Intercept) 3250.7447  1582.7077   2.054   0.0401 *  \n",
       "ins$Claims  4294.7750    18.2819 234.920   <2e-16 ***\n",
       "ins$Insured   28.3881     0.6514  43.580   <2e-16 ***\n",
       "---\n",
       "Signif. codes:  0 '***' 0.001 '**' 0.01 '*' 0.05 '.' 0.1 ' ' 1\n",
       "\n",
       "Residual standard error: 71270 on 2179 degrees of freedom\n",
       "Multiple R-squared:  0.9951,\tAdjusted R-squared:  0.9951 \n",
       "F-statistic: 2.211e+05 on 2 and 2179 DF,  p-value: < 2.2e-16\n"
      ]
     },
     "metadata": {},
     "output_type": "display_data"
    }
   ],
   "source": [
    "summary(lm1)"
   ]
  },
  {
   "cell_type": "markdown",
   "id": "be551c68",
   "metadata": {},
   "source": [
    "With linear we cant differentiate only tell if it is related strongly or not."
   ]
  },
  {
   "cell_type": "markdown",
   "id": "ffc133c0",
   "metadata": {},
   "source": [
    "p-value of claims and isnured is less therefore this means significant role of both for the total payment."
   ]
  },
  {
   "cell_type": "code",
   "execution_count": 5,
   "id": "61e31a79",
   "metadata": {},
   "outputs": [
    {
     "data": {
      "text/html": [
       "0.995400253767465"
      ],
      "text/latex": [
       "0.995400253767465"
      ],
      "text/markdown": [
       "0.995400253767465"
      ],
      "text/plain": [
       "[1] 0.9954003"
      ]
     },
     "metadata": {},
     "output_type": "display_data"
    }
   ],
   "source": [
    "cor(ins$Claims,ins$Payment)"
   ]
  },
  {
   "cell_type": "markdown",
   "id": "0c5f874a",
   "metadata": {},
   "source": [
    "99.54% positively corelated with payment."
   ]
  },
  {
   "cell_type": "code",
   "execution_count": 6,
   "id": "b7c9d501",
   "metadata": {},
   "outputs": [
    {
     "data": {
      "text/html": [
       "0.933216972133565"
      ],
      "text/latex": [
       "0.933216972133565"
      ],
      "text/markdown": [
       "0.933216972133565"
      ],
      "text/plain": [
       "[1] 0.933217"
      ]
     },
     "metadata": {},
     "output_type": "display_data"
    }
   ],
   "source": [
    "cor(ins$Insured,ins$Payment)"
   ]
  },
  {
   "cell_type": "markdown",
   "id": "d2067bd5",
   "metadata": {},
   "source": [
    "93.33% positively corelated insured with payment."
   ]
  },
  {
   "cell_type": "markdown",
   "id": "d13e2230",
   "metadata": {},
   "source": [
    "Plotting the results."
   ]
  },
  {
   "cell_type": "code",
   "execution_count": 8,
   "id": "553609e7",
   "metadata": {},
   "outputs": [
    {
     "data": {
      "image/png": "[encoded data removed]",
      "text/plain": [
       "plot without title"
      ]
     },
     "metadata": {},
     "output_type": "display_data"
    }
   ],
   "source": [
    "plot(ins$Claims,ins$Payment)"
   ]
  },
  {
   "cell_type": "code",
   "execution_count": 9,
   "id": "2bb42335",
   "metadata": {},
   "outputs": [
    {
     "data": {
      "image/png": "[encoded data removed]",
      "text/plain": [
       "plot without title"
      ]
     },
     "metadata": {},
     "output_type": "display_data"
    }
   ],
   "source": [
    "plot(ins$Insured,ins$Payment)"
   ]
  },
  {
   "cell_type": "markdown",
   "id": "562d38fb",
   "metadata": {},
   "source": [
    "# Question 3:"
   ]
  },
  {
   "cell_type": "markdown",
   "id": "0839f580",
   "metadata": {},
   "source": [
    "The committee wants to figure out the reasons for insurance payment increase and decrease. So they have decided to find whether distance, location, bonus, make, and insured amount or claims are affecting the payment or all or some of these are affecting it. "
   ]
  },
  {
   "cell_type": "markdown",
   "id": "cf144e39",
   "metadata": {},
   "source": [
    "Here, Independent variable : insured, claims, make, bonus, zone and kilometers and for \n",
    "Dependent variable : payment"
   ]
  },
  {
   "cell_type": "code",
   "execution_count": 10,
   "id": "9b841d78",
   "metadata": {},
   "outputs": [
    {
     "data": {
      "text/plain": [
       "\n",
       "Call:\n",
       "lm(formula = ins$Payment ~ ., data = ins)\n",
       "\n",
       "Residuals:\n",
       "    Min      1Q  Median      3Q     Max \n",
       "-806775  -16943   -6321   11528  847015 \n",
       "\n",
       "Coefficients:\n",
       "              Estimate Std. Error t value Pr(>|t|)    \n",
       "(Intercept) -2.173e+04  6.338e+03  -3.429 0.000617 ***\n",
       "Kilometres   4.769e+03  1.086e+03   4.392 1.18e-05 ***\n",
       "Zone         2.323e+03  7.735e+02   3.003 0.002703 ** \n",
       "Bonus        1.183e+03  7.737e+02   1.529 0.126462    \n",
       "Make        -7.543e+02  6.107e+02  -1.235 0.216917    \n",
       "Insured      2.788e+01  6.652e-01  41.913  < 2e-16 ***\n",
       "Claims       4.316e+03  1.895e+01 227.793  < 2e-16 ***\n",
       "---\n",
       "Signif. codes:  0 '***' 0.001 '**' 0.01 '*' 0.05 '.' 0.1 ' ' 1\n",
       "\n",
       "Residual standard error: 70830 on 2175 degrees of freedom\n",
       "Multiple R-squared:  0.9952,\tAdjusted R-squared:  0.9952 \n",
       "F-statistic: 7.462e+04 on 6 and 2175 DF,  p-value: < 2.2e-16\n"
      ]
     },
     "metadata": {},
     "output_type": "display_data"
    }
   ],
   "source": [
    "lm2<-lm(ins$Payment~.,data=ins)\n",
    "summary(lm2)"
   ]
  },
  {
   "cell_type": "markdown",
   "id": "d34b470a",
   "metadata": {},
   "source": [
    "Except bonus and make, all are related where kilometer,insured,claims are strongly affecting."
   ]
  },
  {
   "cell_type": "markdown",
   "id": "7e1a835c",
   "metadata": {},
   "source": [
    "# Question 4:"
   ]
  },
  {
   "cell_type": "markdown",
   "id": "3d83715a",
   "metadata": {},
   "source": [
    "The insurance company is planning to establish a new branch office, so they are interested to find at what location, kilometre, and bonus level their insured amount, claims, and payment gets increased."
   ]
  },
  {
   "cell_type": "code",
   "execution_count": 11,
   "id": "95fa9892",
   "metadata": {},
   "outputs": [
    {
     "data": {
      "text/html": [
       "<table>\n",
       "<thead><tr><th scope=col>Insured</th><th scope=col>Claims</th><th scope=col>Payment</th></tr></thead>\n",
       "<tbody>\n",
       "\t<tr><td>1036.17175</td><td> 73.568254</td><td>338518.95 </td></tr>\n",
       "\t<tr><td>1231.48184</td><td> 67.625397</td><td>319921.52 </td></tr>\n",
       "\t<tr><td>1362.95870</td><td> 63.295238</td><td>307550.85 </td></tr>\n",
       "\t<tr><td>2689.38041</td><td>101.311111</td><td>537071.76 </td></tr>\n",
       "\t<tr><td> 384.80188</td><td> 19.047923</td><td> 93001.84 </td></tr>\n",
       "\t<tr><td> 802.68457</td><td> 32.577778</td><td>175528.47 </td></tr>\n",
       "\t<tr><td>  64.91071</td><td>  2.108844</td><td>  9948.19 </td></tr>\n",
       "</tbody>\n",
       "</table>\n"
      ],
      "text/latex": [
       "\\begin{tabular}{r|lll}\n",
       " Insured & Claims & Payment\\\\\n",
       "\\hline\n",
       "\t 1036.17175 &  73.568254 & 338518.95 \\\\\n",
       "\t 1231.48184 &  67.625397 & 319921.52 \\\\\n",
       "\t 1362.95870 &  63.295238 & 307550.85 \\\\\n",
       "\t 2689.38041 & 101.311111 & 537071.76 \\\\\n",
       "\t  384.80188 &  19.047923 &  93001.84 \\\\\n",
       "\t  802.68457 &  32.577778 & 175528.47 \\\\\n",
       "\t   64.91071 &   2.108844 &   9948.19 \\\\\n",
       "\\end{tabular}\n"
      ],
      "text/markdown": [
       "\n",
       "| Insured | Claims | Payment |\n",
       "|---|---|---|\n",
       "| 1036.17175 |  73.568254 | 338518.95  |\n",
       "| 1231.48184 |  67.625397 | 319921.52  |\n",
       "| 1362.95870 |  63.295238 | 307550.85  |\n",
       "| 2689.38041 | 101.311111 | 537071.76  |\n",
       "|  384.80188 |  19.047923 |  93001.84  |\n",
       "|  802.68457 |  32.577778 | 175528.47  |\n",
       "|   64.91071 |   2.108844 |   9948.19  |\n",
       "\n"
      ],
      "text/plain": [
       "  Insured    Claims     Payment  \n",
       "1 1036.17175  73.568254 338518.95\n",
       "2 1231.48184  67.625397 319921.52\n",
       "3 1362.95870  63.295238 307550.85\n",
       "4 2689.38041 101.311111 537071.76\n",
       "5  384.80188  19.047923  93001.84\n",
       "6  802.68457  32.577778 175528.47\n",
       "7   64.91071   2.108844   9948.19"
      ]
     },
     "metadata": {},
     "output_type": "display_data"
    }
   ],
   "source": [
    "g_zone<-apply(ins[,c(5,6,7)], 2, function(x) tapply(x, ins$Zone, mean)) \n",
    "g_zone"
   ]
  },
  {
   "cell_type": "markdown",
   "id": "b56f855e",
   "metadata": {},
   "source": [
    "Zone 4 has the highest number of claims, and thus payment as well. "
   ]
  },
  {
   "cell_type": "markdown",
   "id": "b87cd155",
   "metadata": {},
   "source": [
    "Zones 1-4 have more insured years, claims, and payments."
   ]
  },
  {
   "cell_type": "code",
   "execution_count": 12,
   "id": "08a23390",
   "metadata": {},
   "outputs": [
    {
     "data": {
      "text/html": [
       "<table>\n",
       "<thead><tr><th scope=col>Insured</th><th scope=col>Claims</th><th scope=col>Payment</th></tr></thead>\n",
       "<tbody>\n",
       "\t<tr><td>1837.8163</td><td>75.59453 </td><td>361899.35</td></tr>\n",
       "\t<tr><td>1824.0288</td><td>89.27664 </td><td>442523.78</td></tr>\n",
       "\t<tr><td>1081.9714</td><td>54.16100 </td><td>272012.58</td></tr>\n",
       "\t<tr><td> 398.9632</td><td>20.79493 </td><td>108213.41</td></tr>\n",
       "\t<tr><td> 284.9475</td><td>18.04215 </td><td> 93306.12</td></tr>\n",
       "</tbody>\n",
       "</table>\n"
      ],
      "text/latex": [
       "\\begin{tabular}{r|lll}\n",
       " Insured & Claims & Payment\\\\\n",
       "\\hline\n",
       "\t 1837.8163 & 75.59453  & 361899.35\\\\\n",
       "\t 1824.0288 & 89.27664  & 442523.78\\\\\n",
       "\t 1081.9714 & 54.16100  & 272012.58\\\\\n",
       "\t  398.9632 & 20.79493  & 108213.41\\\\\n",
       "\t  284.9475 & 18.04215  &  93306.12\\\\\n",
       "\\end{tabular}\n"
      ],
      "text/markdown": [
       "\n",
       "| Insured | Claims | Payment |\n",
       "|---|---|---|\n",
       "| 1837.8163 | 75.59453  | 361899.35 |\n",
       "| 1824.0288 | 89.27664  | 442523.78 |\n",
       "| 1081.9714 | 54.16100  | 272012.58 |\n",
       "|  398.9632 | 20.79493  | 108213.41 |\n",
       "|  284.9475 | 18.04215  |  93306.12 |\n",
       "\n"
      ],
      "text/plain": [
       "  Insured   Claims   Payment  \n",
       "1 1837.8163 75.59453 361899.35\n",
       "2 1824.0288 89.27664 442523.78\n",
       "3 1081.9714 54.16100 272012.58\n",
       "4  398.9632 20.79493 108213.41\n",
       "5  284.9475 18.04215  93306.12"
      ]
     },
     "metadata": {},
     "output_type": "display_data"
    }
   ],
   "source": [
    "g_kilo<-apply(ins[,c(5,6,7)],2,function(x)tapply(x,ins$Kilometres,mean))\n",
    "g_kilo"
   ]
  },
  {
   "cell_type": "markdown",
   "id": "d816a408",
   "metadata": {},
   "source": [
    "kilometer group 2 has the maximum payments. Though the insured number of years is lesser than kilometre 1, the claims and payments are higher for group 2."
   ]
  },
  {
   "cell_type": "code",
   "execution_count": 13,
   "id": "e8f50bfb",
   "metadata": {},
   "outputs": [
    {
     "data": {
      "text/html": [
       "<table>\n",
       "<thead><tr><th scope=col>Insured</th><th scope=col>Claims</th><th scope=col>Payment</th></tr></thead>\n",
       "<tbody>\n",
       "\t<tr><td> 525.5502</td><td> 62.50489</td><td>282921.99</td></tr>\n",
       "\t<tr><td> 451.0754</td><td> 34.23397</td><td>163316.62</td></tr>\n",
       "\t<tr><td> 397.4737</td><td> 24.97419</td><td>122656.17</td></tr>\n",
       "\t<tr><td> 360.3867</td><td> 20.35161</td><td> 98498.12</td></tr>\n",
       "\t<tr><td> 437.3936</td><td> 22.82109</td><td>108790.50</td></tr>\n",
       "\t<tr><td> 805.8167</td><td> 39.94286</td><td>197723.82</td></tr>\n",
       "\t<tr><td>4620.3728</td><td>157.22222</td><td>819322.48</td></tr>\n",
       "</tbody>\n",
       "</table>\n"
      ],
      "text/latex": [
       "\\begin{tabular}{r|lll}\n",
       " Insured & Claims & Payment\\\\\n",
       "\\hline\n",
       "\t  525.5502 &  62.50489 & 282921.99\\\\\n",
       "\t  451.0754 &  34.23397 & 163316.62\\\\\n",
       "\t  397.4737 &  24.97419 & 122656.17\\\\\n",
       "\t  360.3867 &  20.35161 &  98498.12\\\\\n",
       "\t  437.3936 &  22.82109 & 108790.50\\\\\n",
       "\t  805.8167 &  39.94286 & 197723.82\\\\\n",
       "\t 4620.3728 & 157.22222 & 819322.48\\\\\n",
       "\\end{tabular}\n"
      ],
      "text/markdown": [
       "\n",
       "| Insured | Claims | Payment |\n",
       "|---|---|---|\n",
       "|  525.5502 |  62.50489 | 282921.99 |\n",
       "|  451.0754 |  34.23397 | 163316.62 |\n",
       "|  397.4737 |  24.97419 | 122656.17 |\n",
       "|  360.3867 |  20.35161 |  98498.12 |\n",
       "|  437.3936 |  22.82109 | 108790.50 |\n",
       "|  805.8167 |  39.94286 | 197723.82 |\n",
       "| 4620.3728 | 157.22222 | 819322.48 |\n",
       "\n"
      ],
      "text/plain": [
       "  Insured   Claims    Payment  \n",
       "1  525.5502  62.50489 282921.99\n",
       "2  451.0754  34.23397 163316.62\n",
       "3  397.4737  24.97419 122656.17\n",
       "4  360.3867  20.35161  98498.12\n",
       "5  437.3936  22.82109 108790.50\n",
       "6  805.8167  39.94286 197723.82\n",
       "7 4620.3728 157.22222 819322.48"
      ]
     },
     "metadata": {},
     "output_type": "display_data"
    }
   ],
   "source": [
    "g_bonus<-apply(ins[,c(5,6,7)],2,function(x)tapply(x,ins$Bonus,mean))\n",
    "g_bonus"
   ]
  },
  {
   "cell_type": "markdown",
   "id": "0275bd97",
   "metadata": {},
   "source": [
    "Bonus group 7 has the highest number of claims and payment."
   ]
  },
  {
   "cell_type": "markdown",
   "id": "95a22753",
   "metadata": {},
   "source": [
    "# Question 5:"
   ]
  },
  {
   "cell_type": "markdown",
   "id": "5db9ac51",
   "metadata": {},
   "source": [
    "The committee wants to understand what affects their claim rates so as to decide the right premiums for a certain set of situations. Hence, they need to find whether the insured amount, zone, kilometre, bonus, or make affects the claim rates and to what extent. "
   ]
  },
  {
   "cell_type": "code",
   "execution_count": 14,
   "id": "b003aeff",
   "metadata": {},
   "outputs": [
    {
     "data": {
      "text/plain": [
       "\n",
       "Call:\n",
       "lm(formula = Claims ~ Kilometres + Zone + Bonus + Make + Insured, \n",
       "    data = ins)\n",
       "\n",
       "Residuals:\n",
       "     Min       1Q   Median       3Q      Max \n",
       "-1214.57   -25.18    -9.41    10.04  1301.78 \n",
       "\n",
       "Coefficients:\n",
       "              Estimate Std. Error t value Pr(>|t|)    \n",
       "(Intercept) 37.1230027  7.1270679   5.209 2.08e-07 ***\n",
       "Kilometres  -3.9648601  1.2255209  -3.235  0.00123 ** \n",
       "Zone        -6.2924300  0.8647405  -7.277 4.75e-13 ***\n",
       "Bonus       -4.2468101  0.8707236  -4.877 1.15e-06 ***\n",
       "Make         6.7725342  0.6755390  10.025  < 2e-16 ***\n",
       "Insured      0.0318697  0.0003158 100.933  < 2e-16 ***\n",
       "---\n",
       "Signif. codes:  0 '***' 0.001 '**' 0.01 '*' 0.05 '.' 0.1 ' ' 1\n",
       "\n",
       "Residual standard error: 80.14 on 2176 degrees of freedom\n",
       "Multiple R-squared:  0.8425,\tAdjusted R-squared:  0.8421 \n",
       "F-statistic:  2328 on 5 and 2176 DF,  p-value: < 2.2e-16\n"
      ]
     },
     "metadata": {},
     "output_type": "display_data"
    }
   ],
   "source": [
    "reg<-lm(Claims~Kilometres+Zone+Bonus+Make+Insured,data=ins)\n",
    "summary(reg)"
   ]
  },
  {
   "cell_type": "markdown",
   "id": "b107b1b7",
   "metadata": {},
   "source": [
    "Dependent variable: claims"
   ]
  },
  {
   "cell_type": "markdown",
   "id": "2ecf6dae",
   "metadata": {},
   "source": [
    "Independent variable: kilometres, zone, bonus, make and insured"
   ]
  },
  {
   "cell_type": "markdown",
   "id": "1a4c6cd2",
   "metadata": {},
   "source": [
    "The results provides the intercept and estimated value and this in turn shows that all the p-values of independent variables, such as kilometres, zone, bonus, make and insured are highly significant and are making an impact on the claims. "
   ]
  }
 ],
 "metadata": {
  "kernelspec": {
   "display_name": "R",
   "language": "R",
   "name": "ir"
  },
  "language_info": {
   "codemirror_mode": "r",
   "file_extension": ".r",
   "mimetype": "text/x-r-source",
   "name": "R",
   "pygments_lexer": "r",
   "version": "3.6.1"
  }
 },
 "nbformat": 4,
 "nbformat_minor": 5
}
